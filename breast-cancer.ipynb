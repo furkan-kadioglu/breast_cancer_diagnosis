{
 "cells": [
  {
   "cell_type": "code",
   "execution_count": 1,
   "metadata": {},
   "outputs": [],
   "source": [
    "import pandas as pd\n",
    "import numpy as np\n",
    "import pickle as pk\n",
    "import matplotlib.pyplot as plt\n",
    "from sklearn import svm\n",
    "from sklearn.linear_model import LogisticRegression\n",
    "from sklearn.neural_network import MLPClassifier\n",
    "import tensorflow as tf"
   ]
  },
  {
   "cell_type": "code",
   "execution_count": 2,
   "metadata": {},
   "outputs": [],
   "source": [
    "cols = [\n",
    "    'ID',\n",
    "    'diagnosis',\n",
    "    'radius_m',\n",
    "    'texture_m',\n",
    "    'perimeter_m',\n",
    "    'area_m',\n",
    "    'smoothness_m',\n",
    "    'compactness_m',\n",
    "    'concavity_m',\n",
    "    'concave_points_m',\n",
    "    'symmetry_m',\n",
    "    'fractal_dimension_m',\n",
    "    'radius_se',\n",
    "    'texture_se',\n",
    "    'perimeter_se',\n",
    "    'area_se',\n",
    "    'smoothness_se',\n",
    "    'compactness_se',\n",
    "    'concavity_se',\n",
    "    'concave_points_se',\n",
    "    'symmetry_se',\n",
    "    'fractal_dimension_se',\n",
    "    'radius_w',\n",
    "    'texture_w',\n",
    "    'perimeter_w',\n",
    "    'area_w',\n",
    "    'smoothness_w',\n",
    "    'compactness_w',\n",
    "    'concavity_w',\n",
    "    'concave_points_w',\n",
    "    'symmetry_w',\n",
    "    'fractal_dimension_w']"
   ]
  },
  {
   "cell_type": "code",
   "execution_count": 3,
   "metadata": {},
   "outputs": [],
   "source": [
    "def serialize(obj):\n",
    "    with open('pickle_files/'+namestr(obj)+'.pickle','wb') as f:\n",
    "        pk.dump(obj,f,pk.HIGHEST_PROTOCOL)\n",
    "        \n",
    "def load(obj):\n",
    "    with open('pickle_files/'+obj+'.pickle','rb') as f:\n",
    "        return pk.load(f)\n",
    "\n",
    "def namestr(obj):\n",
    "    g = globals()\n",
    "    return [name for name in g if g[name] is obj][0]"
   ]
  },
  {
   "cell_type": "markdown",
   "metadata": {},
   "source": [
    "### Load dataset from .data file"
   ]
  },
  {
   "cell_type": "code",
   "execution_count": 4,
   "metadata": {},
   "outputs": [],
   "source": [
    "with open('wdbc.data') as file:\n",
    "    l = file.read().splitlines()\n",
    "    l = [i.split(',') for i in l]\n",
    "    data_set = pd.DataFrame(l, columns=cols)\n",
    "    for i in data_set:\n",
    "        data_set[i] = pd.to_numeric(data_set[i],errors='ignore')\n",
    "    \n",
    "    data_set = data_set.sample(frac=1).reset_index(drop=True)\n",
    "    serialize(data_set)"
   ]
  },
  {
   "cell_type": "markdown",
   "metadata": {},
   "source": [
    "### Load dataset from pickle file"
   ]
  },
  {
   "cell_type": "code",
   "execution_count": 5,
   "metadata": {
    "scrolled": true
   },
   "outputs": [],
   "source": [
    "data_set = load('data_set')\n",
    "\n",
    "# M => 1, B => 0\n",
    "data_set.replace('B', 0, inplace=True)\n",
    "data_set.replace('M', 1, inplace=True)\n",
    "\n",
    "X = data_set.iloc[:,2:]\n",
    "y = data_set.iloc[:,1]"
   ]
  },
  {
   "cell_type": "markdown",
   "metadata": {},
   "source": [
    "### Normalization"
   ]
  },
  {
   "cell_type": "code",
   "execution_count": 6,
   "metadata": {},
   "outputs": [],
   "source": [
    "std = np.apply_along_axis(np.std,0,X)\n",
    "mean = np.apply_along_axis(np.mean,0,X)\n",
    "\n",
    "for i in range(len(X.columns)):\n",
    "    X.iloc[:,i] -= mean[i]\n",
    "    X.iloc[:,i] /= std[i]"
   ]
  },
  {
   "cell_type": "code",
   "execution_count": 7,
   "metadata": {
    "scrolled": true
   },
   "outputs": [
    {
     "data": {
      "text/html": [
       "<div>\n",
       "<style scoped>\n",
       "    .dataframe tbody tr th:only-of-type {\n",
       "        vertical-align: middle;\n",
       "    }\n",
       "\n",
       "    .dataframe tbody tr th {\n",
       "        vertical-align: top;\n",
       "    }\n",
       "\n",
       "    .dataframe thead th {\n",
       "        text-align: right;\n",
       "    }\n",
       "</style>\n",
       "<table border=\"1\" class=\"dataframe\">\n",
       "  <thead>\n",
       "    <tr style=\"text-align: right;\">\n",
       "      <th></th>\n",
       "      <th>ID</th>\n",
       "      <th>diagnosis</th>\n",
       "      <th>radius_m</th>\n",
       "      <th>texture_m</th>\n",
       "      <th>perimeter_m</th>\n",
       "      <th>area_m</th>\n",
       "      <th>smoothness_m</th>\n",
       "      <th>compactness_m</th>\n",
       "      <th>concavity_m</th>\n",
       "      <th>concave_points_m</th>\n",
       "      <th>...</th>\n",
       "      <th>radius_w</th>\n",
       "      <th>texture_w</th>\n",
       "      <th>perimeter_w</th>\n",
       "      <th>area_w</th>\n",
       "      <th>smoothness_w</th>\n",
       "      <th>compactness_w</th>\n",
       "      <th>concavity_w</th>\n",
       "      <th>concave_points_w</th>\n",
       "      <th>symmetry_w</th>\n",
       "      <th>fractal_dimension_w</th>\n",
       "    </tr>\n",
       "  </thead>\n",
       "  <tbody>\n",
       "    <tr>\n",
       "      <th>0</th>\n",
       "      <td>8610629</td>\n",
       "      <td>0</td>\n",
       "      <td>13.53</td>\n",
       "      <td>10.94</td>\n",
       "      <td>87.91</td>\n",
       "      <td>559.2</td>\n",
       "      <td>0.12910</td>\n",
       "      <td>0.10470</td>\n",
       "      <td>0.068770</td>\n",
       "      <td>0.065560</td>\n",
       "      <td>...</td>\n",
       "      <td>14.08</td>\n",
       "      <td>12.49</td>\n",
       "      <td>91.36</td>\n",
       "      <td>605.5</td>\n",
       "      <td>0.1451</td>\n",
       "      <td>0.13790</td>\n",
       "      <td>0.085390</td>\n",
       "      <td>0.07407</td>\n",
       "      <td>0.2710</td>\n",
       "      <td>0.07191</td>\n",
       "    </tr>\n",
       "    <tr>\n",
       "      <th>1</th>\n",
       "      <td>857810</td>\n",
       "      <td>0</td>\n",
       "      <td>13.05</td>\n",
       "      <td>19.31</td>\n",
       "      <td>82.61</td>\n",
       "      <td>527.2</td>\n",
       "      <td>0.08060</td>\n",
       "      <td>0.03789</td>\n",
       "      <td>0.000692</td>\n",
       "      <td>0.004167</td>\n",
       "      <td>...</td>\n",
       "      <td>14.23</td>\n",
       "      <td>22.25</td>\n",
       "      <td>90.24</td>\n",
       "      <td>624.1</td>\n",
       "      <td>0.1021</td>\n",
       "      <td>0.06191</td>\n",
       "      <td>0.001845</td>\n",
       "      <td>0.01111</td>\n",
       "      <td>0.2439</td>\n",
       "      <td>0.06289</td>\n",
       "    </tr>\n",
       "    <tr>\n",
       "      <th>2</th>\n",
       "      <td>868682</td>\n",
       "      <td>0</td>\n",
       "      <td>11.43</td>\n",
       "      <td>15.39</td>\n",
       "      <td>73.06</td>\n",
       "      <td>399.8</td>\n",
       "      <td>0.09639</td>\n",
       "      <td>0.06889</td>\n",
       "      <td>0.035030</td>\n",
       "      <td>0.028750</td>\n",
       "      <td>...</td>\n",
       "      <td>12.32</td>\n",
       "      <td>22.02</td>\n",
       "      <td>79.93</td>\n",
       "      <td>462.0</td>\n",
       "      <td>0.1190</td>\n",
       "      <td>0.16480</td>\n",
       "      <td>0.139900</td>\n",
       "      <td>0.08476</td>\n",
       "      <td>0.2676</td>\n",
       "      <td>0.06765</td>\n",
       "    </tr>\n",
       "    <tr>\n",
       "      <th>3</th>\n",
       "      <td>864018</td>\n",
       "      <td>0</td>\n",
       "      <td>11.34</td>\n",
       "      <td>21.26</td>\n",
       "      <td>72.48</td>\n",
       "      <td>396.5</td>\n",
       "      <td>0.08759</td>\n",
       "      <td>0.06575</td>\n",
       "      <td>0.051330</td>\n",
       "      <td>0.018990</td>\n",
       "      <td>...</td>\n",
       "      <td>13.01</td>\n",
       "      <td>29.15</td>\n",
       "      <td>83.99</td>\n",
       "      <td>518.1</td>\n",
       "      <td>0.1699</td>\n",
       "      <td>0.21960</td>\n",
       "      <td>0.312000</td>\n",
       "      <td>0.08278</td>\n",
       "      <td>0.2829</td>\n",
       "      <td>0.08832</td>\n",
       "    </tr>\n",
       "    <tr>\n",
       "      <th>4</th>\n",
       "      <td>881094802</td>\n",
       "      <td>1</td>\n",
       "      <td>17.42</td>\n",
       "      <td>25.56</td>\n",
       "      <td>114.50</td>\n",
       "      <td>948.0</td>\n",
       "      <td>0.10060</td>\n",
       "      <td>0.11460</td>\n",
       "      <td>0.168200</td>\n",
       "      <td>0.065970</td>\n",
       "      <td>...</td>\n",
       "      <td>18.07</td>\n",
       "      <td>28.07</td>\n",
       "      <td>120.40</td>\n",
       "      <td>1021.0</td>\n",
       "      <td>0.1243</td>\n",
       "      <td>0.17930</td>\n",
       "      <td>0.280300</td>\n",
       "      <td>0.10990</td>\n",
       "      <td>0.1603</td>\n",
       "      <td>0.06818</td>\n",
       "    </tr>\n",
       "    <tr>\n",
       "      <th>...</th>\n",
       "      <td>...</td>\n",
       "      <td>...</td>\n",
       "      <td>...</td>\n",
       "      <td>...</td>\n",
       "      <td>...</td>\n",
       "      <td>...</td>\n",
       "      <td>...</td>\n",
       "      <td>...</td>\n",
       "      <td>...</td>\n",
       "      <td>...</td>\n",
       "      <td>...</td>\n",
       "      <td>...</td>\n",
       "      <td>...</td>\n",
       "      <td>...</td>\n",
       "      <td>...</td>\n",
       "      <td>...</td>\n",
       "      <td>...</td>\n",
       "      <td>...</td>\n",
       "      <td>...</td>\n",
       "      <td>...</td>\n",
       "      <td>...</td>\n",
       "    </tr>\n",
       "    <tr>\n",
       "      <th>564</th>\n",
       "      <td>909220</td>\n",
       "      <td>0</td>\n",
       "      <td>14.04</td>\n",
       "      <td>15.98</td>\n",
       "      <td>89.78</td>\n",
       "      <td>611.2</td>\n",
       "      <td>0.08458</td>\n",
       "      <td>0.05895</td>\n",
       "      <td>0.035340</td>\n",
       "      <td>0.029440</td>\n",
       "      <td>...</td>\n",
       "      <td>15.66</td>\n",
       "      <td>21.58</td>\n",
       "      <td>101.20</td>\n",
       "      <td>750.0</td>\n",
       "      <td>0.1195</td>\n",
       "      <td>0.12520</td>\n",
       "      <td>0.111700</td>\n",
       "      <td>0.07453</td>\n",
       "      <td>0.2725</td>\n",
       "      <td>0.07234</td>\n",
       "    </tr>\n",
       "    <tr>\n",
       "      <th>565</th>\n",
       "      <td>867387</td>\n",
       "      <td>0</td>\n",
       "      <td>15.71</td>\n",
       "      <td>13.93</td>\n",
       "      <td>102.00</td>\n",
       "      <td>761.7</td>\n",
       "      <td>0.09462</td>\n",
       "      <td>0.09462</td>\n",
       "      <td>0.071350</td>\n",
       "      <td>0.059330</td>\n",
       "      <td>...</td>\n",
       "      <td>17.50</td>\n",
       "      <td>19.25</td>\n",
       "      <td>114.30</td>\n",
       "      <td>922.8</td>\n",
       "      <td>0.1223</td>\n",
       "      <td>0.19490</td>\n",
       "      <td>0.170900</td>\n",
       "      <td>0.13740</td>\n",
       "      <td>0.2723</td>\n",
       "      <td>0.07071</td>\n",
       "    </tr>\n",
       "    <tr>\n",
       "      <th>566</th>\n",
       "      <td>897880</td>\n",
       "      <td>0</td>\n",
       "      <td>10.05</td>\n",
       "      <td>17.53</td>\n",
       "      <td>64.41</td>\n",
       "      <td>310.8</td>\n",
       "      <td>0.10070</td>\n",
       "      <td>0.07326</td>\n",
       "      <td>0.025110</td>\n",
       "      <td>0.017750</td>\n",
       "      <td>...</td>\n",
       "      <td>11.16</td>\n",
       "      <td>26.84</td>\n",
       "      <td>71.98</td>\n",
       "      <td>384.0</td>\n",
       "      <td>0.1402</td>\n",
       "      <td>0.14020</td>\n",
       "      <td>0.105500</td>\n",
       "      <td>0.06499</td>\n",
       "      <td>0.2894</td>\n",
       "      <td>0.07664</td>\n",
       "    </tr>\n",
       "    <tr>\n",
       "      <th>567</th>\n",
       "      <td>852781</td>\n",
       "      <td>1</td>\n",
       "      <td>18.61</td>\n",
       "      <td>20.25</td>\n",
       "      <td>122.10</td>\n",
       "      <td>1094.0</td>\n",
       "      <td>0.09440</td>\n",
       "      <td>0.10660</td>\n",
       "      <td>0.149000</td>\n",
       "      <td>0.077310</td>\n",
       "      <td>...</td>\n",
       "      <td>21.31</td>\n",
       "      <td>27.26</td>\n",
       "      <td>139.90</td>\n",
       "      <td>1403.0</td>\n",
       "      <td>0.1338</td>\n",
       "      <td>0.21170</td>\n",
       "      <td>0.344600</td>\n",
       "      <td>0.14900</td>\n",
       "      <td>0.2341</td>\n",
       "      <td>0.07421</td>\n",
       "    </tr>\n",
       "    <tr>\n",
       "      <th>568</th>\n",
       "      <td>918465</td>\n",
       "      <td>0</td>\n",
       "      <td>12.07</td>\n",
       "      <td>13.44</td>\n",
       "      <td>77.83</td>\n",
       "      <td>445.2</td>\n",
       "      <td>0.11000</td>\n",
       "      <td>0.09009</td>\n",
       "      <td>0.037810</td>\n",
       "      <td>0.027980</td>\n",
       "      <td>...</td>\n",
       "      <td>13.45</td>\n",
       "      <td>15.77</td>\n",
       "      <td>86.92</td>\n",
       "      <td>549.9</td>\n",
       "      <td>0.1521</td>\n",
       "      <td>0.16320</td>\n",
       "      <td>0.162200</td>\n",
       "      <td>0.07393</td>\n",
       "      <td>0.2781</td>\n",
       "      <td>0.08052</td>\n",
       "    </tr>\n",
       "  </tbody>\n",
       "</table>\n",
       "<p>569 rows × 32 columns</p>\n",
       "</div>"
      ],
      "text/plain": [
       "            ID  diagnosis  radius_m  texture_m  perimeter_m  area_m  \\\n",
       "0      8610629          0     13.53      10.94        87.91   559.2   \n",
       "1       857810          0     13.05      19.31        82.61   527.2   \n",
       "2       868682          0     11.43      15.39        73.06   399.8   \n",
       "3       864018          0     11.34      21.26        72.48   396.5   \n",
       "4    881094802          1     17.42      25.56       114.50   948.0   \n",
       "..         ...        ...       ...        ...          ...     ...   \n",
       "564     909220          0     14.04      15.98        89.78   611.2   \n",
       "565     867387          0     15.71      13.93       102.00   761.7   \n",
       "566     897880          0     10.05      17.53        64.41   310.8   \n",
       "567     852781          1     18.61      20.25       122.10  1094.0   \n",
       "568     918465          0     12.07      13.44        77.83   445.2   \n",
       "\n",
       "     smoothness_m  compactness_m  concavity_m  concave_points_m  ...  \\\n",
       "0         0.12910        0.10470     0.068770          0.065560  ...   \n",
       "1         0.08060        0.03789     0.000692          0.004167  ...   \n",
       "2         0.09639        0.06889     0.035030          0.028750  ...   \n",
       "3         0.08759        0.06575     0.051330          0.018990  ...   \n",
       "4         0.10060        0.11460     0.168200          0.065970  ...   \n",
       "..            ...            ...          ...               ...  ...   \n",
       "564       0.08458        0.05895     0.035340          0.029440  ...   \n",
       "565       0.09462        0.09462     0.071350          0.059330  ...   \n",
       "566       0.10070        0.07326     0.025110          0.017750  ...   \n",
       "567       0.09440        0.10660     0.149000          0.077310  ...   \n",
       "568       0.11000        0.09009     0.037810          0.027980  ...   \n",
       "\n",
       "     radius_w  texture_w  perimeter_w  area_w  smoothness_w  compactness_w  \\\n",
       "0       14.08      12.49        91.36   605.5        0.1451        0.13790   \n",
       "1       14.23      22.25        90.24   624.1        0.1021        0.06191   \n",
       "2       12.32      22.02        79.93   462.0        0.1190        0.16480   \n",
       "3       13.01      29.15        83.99   518.1        0.1699        0.21960   \n",
       "4       18.07      28.07       120.40  1021.0        0.1243        0.17930   \n",
       "..        ...        ...          ...     ...           ...            ...   \n",
       "564     15.66      21.58       101.20   750.0        0.1195        0.12520   \n",
       "565     17.50      19.25       114.30   922.8        0.1223        0.19490   \n",
       "566     11.16      26.84        71.98   384.0        0.1402        0.14020   \n",
       "567     21.31      27.26       139.90  1403.0        0.1338        0.21170   \n",
       "568     13.45      15.77        86.92   549.9        0.1521        0.16320   \n",
       "\n",
       "     concavity_w  concave_points_w  symmetry_w  fractal_dimension_w  \n",
       "0       0.085390           0.07407      0.2710              0.07191  \n",
       "1       0.001845           0.01111      0.2439              0.06289  \n",
       "2       0.139900           0.08476      0.2676              0.06765  \n",
       "3       0.312000           0.08278      0.2829              0.08832  \n",
       "4       0.280300           0.10990      0.1603              0.06818  \n",
       "..           ...               ...         ...                  ...  \n",
       "564     0.111700           0.07453      0.2725              0.07234  \n",
       "565     0.170900           0.13740      0.2723              0.07071  \n",
       "566     0.105500           0.06499      0.2894              0.07664  \n",
       "567     0.344600           0.14900      0.2341              0.07421  \n",
       "568     0.162200           0.07393      0.2781              0.08052  \n",
       "\n",
       "[569 rows x 32 columns]"
      ]
     },
     "execution_count": 7,
     "metadata": {},
     "output_type": "execute_result"
    }
   ],
   "source": [
    "data_set"
   ]
  },
  {
   "cell_type": "markdown",
   "metadata": {},
   "source": [
    "### Confusion matrix functions"
   ]
  },
  {
   "cell_type": "code",
   "execution_count": 8,
   "metadata": {},
   "outputs": [],
   "source": [
    "def tp(y, p):\n",
    "    return sum(np.logical_and(y,p))\n",
    "\n",
    "def fp(y, p):\n",
    "    return sum(np.logical_and(np.logical_not(y),p))\n",
    "\n",
    "def tn(y, p):\n",
    "    return sum(np.logical_not(np.logical_or(y,p)))\n",
    "\n",
    "def fn(y, p):\n",
    "    return sum(np.logical_and(y,np.logical_not(p)))"
   ]
  },
  {
   "cell_type": "markdown",
   "metadata": {},
   "source": [
    "### Metrics"
   ]
  },
  {
   "cell_type": "code",
   "execution_count": 9,
   "metadata": {},
   "outputs": [],
   "source": [
    "def accuracy(y_true, y_prediction):\n",
    "    return sum(np.logical_not(np.logical_xor(y_true, y_prediction)))/len(y_true)\n",
    "\n",
    "def precision(y_true, y_prediction):\n",
    "    true_positive  = tp(y_true, y_prediction)\n",
    "    false_positive = fp(y_true, y_prediction)\n",
    "    return true_positive / (true_positive + false_positive)\n",
    "\n",
    "def recall(y_true, y_prediction):\n",
    "    true_positive  = tp(y_true, y_prediction)\n",
    "    false_negative = fn(y_true, y_prediction)\n",
    "    return true_positive / (true_positive + false_negative)\n",
    "\n",
    "def specifity(y_true, y_prediction):\n",
    "    false_positive = fp(y_true, y_prediction)\n",
    "    true_negative  = tn(y_true, y_prediction)\n",
    "    return true_negative / (false_positive + true_negative)\n",
    "\n",
    "def roc_auc(y_true, y_prediction):\n",
    "    tpr = recall(y_true, y_prediction)\n",
    "    fpr = 1 - specifity(y_true, y_prediction)\n",
    "    return (tpr*fpr/2)+((tpr+1)/2)*(1-fpr)"
   ]
  },
  {
   "cell_type": "markdown",
   "metadata": {},
   "source": [
    "### Training and Testing functions"
   ]
  },
  {
   "cell_type": "code",
   "execution_count": 10,
   "metadata": {},
   "outputs": [],
   "source": [
    "def predict(model, x_train, y_train, x_test, y_test):\n",
    "    model.fit(x_train,y_train)\n",
    "    return model.predict(x_test)\n",
    "\n",
    "def score(y_test, prediction):\n",
    "    score = []\n",
    "    score.append(accuracy(y_test, prediction))\n",
    "    score.append(precision(y_test, prediction))\n",
    "    score.append(recall(y_test, prediction))\n",
    "    score.append(roc_auc(y_test, prediction))\n",
    "    return np.array(score)"
   ]
  },
  {
   "cell_type": "code",
   "execution_count": 11,
   "metadata": {},
   "outputs": [],
   "source": [
    "def cross_validation(X, y, n):\n",
    "    options = []\n",
    "    \n",
    "    for i in range(n):\n",
    "        X_folds = np.array_split(X, n)\n",
    "        y_folds = np.array_split(y, n)\n",
    "        \n",
    "        x_test = X_folds.pop(i)\n",
    "        y_test = y_folds.pop(i)\n",
    "\n",
    "        options.append([pd.concat(X_folds),pd.concat(y_folds),x_test,y_test])\n",
    "        \n",
    "    return options"
   ]
  },
  {
   "cell_type": "code",
   "execution_count": 12,
   "metadata": {},
   "outputs": [],
   "source": [
    "def result(model, X, y, n_fold):\n",
    "    folds_option = cross_validation(X, y, n_fold)\n",
    "    scores = []\n",
    "    for i in folds_option:\n",
    "        if len(scores):\n",
    "            scores += score(i[3],predict(model, *i))\n",
    "        else:\n",
    "            scores = score(i[3],predict(model, *i))\n",
    "    scores /= n_fold\n",
    "    return {'accuracy' : scores[0], \n",
    "            'precision': scores[1], \n",
    "            'recall' : scores[2], \n",
    "            'auc' : scores[3]}"
   ]
  },
  {
   "cell_type": "markdown",
   "metadata": {},
   "source": [
    "## Custom MLP"
   ]
  },
  {
   "cell_type": "code",
   "execution_count": 13,
   "metadata": {},
   "outputs": [],
   "source": [
    "class MLP: \n",
    "    \n",
    "    def __init__(self, \n",
    "                 num_perceptrons  = 128, \n",
    "                 activation       = tf.nn.relu, \n",
    "                 solver           = tf.train.AdamOptimizer, \n",
    "                 learning_rate    = .01, \n",
    "                 regularizer_rate = .1,\n",
    "                 epochs           = 15, \n",
    "                 dropout_rate     = .6):\n",
    "    \n",
    "        self.num_perceptrons  = num_perceptrons\n",
    "        self.activation       = activation\n",
    "        self.solver           = solver\n",
    "        self.learning_rate    = learning_rate\n",
    "        self.regularizer_rate = regularizer_rate\n",
    "        self.epochs           = epochs\n",
    "        self.dropout_rate     = dropout_rate\n",
    "\n",
    "    def fit(self, X, y):\n",
    "        \n",
    "        self.s = tf.get_default_session()\n",
    "        if not self.s:\n",
    "            self.s = tf.InteractiveSession()\n",
    "            \n",
    "        self.X_train = X\n",
    "        self.y_train = y\n",
    "        \n",
    "        # initial data\n",
    "        X      = np.array(X)     \n",
    "        y      = np.array(y).reshape((-1,1))\n",
    "        self.X_input = tf.placeholder('float', shape=(None, X.shape[1]), name='X')\n",
    "        self.y_input = tf.placeholder('float', shape=(None, y.shape[1]), name='y')\n",
    "        self.drop_rate = tf.placeholder('float')\n",
    "        \n",
    "        # initialize weights & bias\n",
    "        weights_0 = tf.Variable(tf.random_normal([X.shape[1],self.num_perceptrons], \n",
    "                                                 stddev=(1/tf.sqrt(float(X.shape[1])))))\n",
    "        bias_0    = tf.Variable(tf.random_normal([self.num_perceptrons]))\n",
    "\n",
    "        weights_1 = tf.Variable(tf.random_normal([self.num_perceptrons,y.shape[1]], \n",
    "                                                 stddev=(1/tf.sqrt(float(self.num_perceptrons)))))\n",
    "        bias_1    = tf.Variable(tf.random_normal([y.shape[1]]))\n",
    "        \n",
    "        # define layers\n",
    "        hidden_output  = self.activation(tf.matmul(self.X_input, weights_0)+bias_0)\n",
    "        dropped_output = tf.nn.dropout(hidden_output, rate=self.drop_rate)\n",
    "\n",
    "        output         = tf.matmul(dropped_output,weights_1) + bias_1\n",
    "        mean, var      = tf.nn.moments(output,0)\n",
    "        self.predicted = tf.sigmoid((output - mean)/tf.sqrt(var))\n",
    "\n",
    "        \n",
    "        # optimization\n",
    "        loss      = tf.reduce_mean(tf.nn.softmax_cross_entropy_with_logits_v2(logits=self.predicted,\n",
    "                                                                              labels=self.y_input))\\\n",
    "        + self.regularizer_rate*(tf.reduce_sum(tf.square(bias_0)) + tf.reduce_sum(tf.square(bias_1)))\n",
    "        \n",
    "        optimizer = tf.train.AdamOptimizer(self.learning_rate).minimize(loss,var_list=[weights_0,\n",
    "                                                                                       weights_1,\n",
    "                                                                                       bias_0,\n",
    "                                                                                       bias_1])\n",
    "        # training\n",
    "        self.s.run(tf.global_variables_initializer())\n",
    "        for i in range(self.epochs):\n",
    "            self.s.run(optimizer, {self.X_input:X, self.y_input:y, self.drop_rate:self.dropout_rate})\n",
    "        \n",
    "\n",
    "        \n",
    "    def predict(self, x_test):\n",
    "        prediction = self.s.run(self.predicted, {self.X_input:x_test, self.drop_rate:0})\n",
    "        return np.where(prediction.reshape((-1,))>.5,1,0)"
   ]
  },
  {
   "cell_type": "markdown",
   "metadata": {},
   "source": [
    "## Result"
   ]
  },
  {
   "cell_type": "code",
   "execution_count": 14,
   "metadata": {
    "scrolled": false
   },
   "outputs": [],
   "source": [
    "results = {}\n",
    "\n",
    "results['logistic']    = result(LogisticRegression(max_iter=3000), X, y, 5)\n",
    "\n",
    "results['svm']         = result(svm.SVC(), X, y, 5)\n",
    "\n",
    "results['library_mlp'] = result(MLPClassifier(max_iter = 400, activation='relu'), X, y, 5)\n",
    "\n",
    "results['custom_mlp']  = result(MLP(learning_rate=.025),X,y,5)"
   ]
  },
  {
   "cell_type": "code",
   "execution_count": 15,
   "metadata": {},
   "outputs": [],
   "source": [
    "def plot(label='accuracy'):\n",
    "    y_pos = np.arange(len(results))\n",
    "    performance = [i[label] for i in results.values()]\n",
    "\n",
    "    plt.bar(y_pos, performance)\n",
    "    plt.xticks(y_pos, results.keys())\n",
    "    plt.ylabel(label)\n",
    "    plt.ylim(bottom=min(performance)-.05)\n",
    "\n",
    "    plt.show()"
   ]
  },
  {
   "cell_type": "code",
   "execution_count": 16,
   "metadata": {},
   "outputs": [
    {
     "data": {
      "image/png": "[encoded data removed]",
      "text/plain": [
       "<Figure size 432x288 with 1 Axes>"
      ]
     },
     "metadata": {
      "needs_background": "light"
     },
     "output_type": "display_data"
    }
   ],
   "source": [
    "plot('accuracy')"
   ]
  },
  {
   "cell_type": "code",
   "execution_count": 17,
   "metadata": {},
   "outputs": [
    {
     "data": {
      "image/png": "[encoded data removed]",
      "text/plain": [
       "<Figure size 432x288 with 1 Axes>"
      ]
     },
     "metadata": {
      "needs_background": "light"
     },
     "output_type": "display_data"
    }
   ],
   "source": [
    "plot('precision')"
   ]
  },
  {
   "cell_type": "code",
   "execution_count": 18,
   "metadata": {},
   "outputs": [
    {
     "data": {
      "image/png": "[encoded data removed]",
      "text/plain": [
       "<Figure size 432x288 with 1 Axes>"
      ]
     },
     "metadata": {
      "needs_background": "light"
     },
     "output_type": "display_data"
    }
   ],
   "source": [
    "plot('recall')"
   ]
  },
  {
   "cell_type": "code",
   "execution_count": 19,
   "metadata": {
    "scrolled": true
   },
   "outputs": [
    {
     "data": {
      "image/png": "[encoded data removed]",
      "text/plain": [
       "<Figure size 432x288 with 1 Axes>"
      ]
     },
     "metadata": {
      "needs_background": "light"
     },
     "output_type": "display_data"
    }
   ],
   "source": [
    "plot('auc')"
   ]
  },
  {
   "cell_type": "code",
   "execution_count": 20,
   "metadata": {
    "scrolled": true
   },
   "outputs": [
    {
     "data": {
      "text/plain": [
       "{'accuracy': 0.9736376339077782,\n",
       " 'precision': 0.9701026957637998,\n",
       " 'recall': 0.9588216039279869,\n",
       " 'auc': 0.9713747659279572}"
      ]
     },
     "execution_count": 20,
     "metadata": {},
     "output_type": "execute_result"
    }
   ],
   "source": [
    "results['custom_mlp']"
   ]
  },
  {
   "cell_type": "code",
   "execution_count": 21,
   "metadata": {},
   "outputs": [
    {
     "data": {
      "text/plain": [
       "{'accuracy': 0.9789163173420276,\n",
       " 'precision': 0.9916666666666668,\n",
       " 'recall': 0.9523733023229104,\n",
       " 'auc': 0.9731563481311521}"
      ]
     },
     "execution_count": 21,
     "metadata": {},
     "output_type": "execute_result"
    }
   ],
   "source": [
    "results['library_mlp']"
   ]
  },
  {
   "cell_type": "code",
   "execution_count": 22,
   "metadata": {},
   "outputs": [
    {
     "data": {
      "text/plain": [
       "{'accuracy': 0.9806707033069401,\n",
       " 'precision': 0.989608636977058,\n",
       " 'recall': 0.9577251126999167,\n",
       " 'auc': 0.9761778716652737}"
      ]
     },
     "execution_count": 22,
     "metadata": {},
     "output_type": "execute_result"
    }
   ],
   "source": [
    "results['logistic']"
   ]
  },
  {
   "cell_type": "code",
   "execution_count": 23,
   "metadata": {},
   "outputs": [
    {
     "data": {
      "text/plain": [
       "{'accuracy': 0.9736531594472908,\n",
       " 'precision': 0.9761761426978819,\n",
       " 'recall': 0.9554391707583196,\n",
       " 'auc': 0.9706712643308387}"
      ]
     },
     "execution_count": 23,
     "metadata": {},
     "output_type": "execute_result"
    }
   ],
   "source": [
    "results['svm']"
   ]
  },
  {
   "cell_type": "code",
   "execution_count": null,
   "metadata": {},
   "outputs": [],
   "source": []
  }
 ],
 "metadata": {
  "kernelspec": {
   "display_name": "Python 3",
   "language": "python",
   "name": "python3"
  },
  "language_info": {
   "codemirror_mode": {
    "name": "ipython",
    "version": 3
   },
   "file_extension": ".py",
   "mimetype": "text/x-python",
   "name": "python",
   "nbconvert_exporter": "python",
   "pygments_lexer": "ipython3",
   "version": "3.7.4"
  }
 },
 "nbformat": 4,
 "nbformat_minor": 2
}
