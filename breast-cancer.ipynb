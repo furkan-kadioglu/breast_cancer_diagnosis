{
 "cells": [
  {
   "cell_type": "code",
   "execution_count": 1,
   "metadata": {},
   "outputs": [],
   "source": [
    "import pandas as pd\n",
    "import numpy as np\n",
    "import pickle as pk\n",
    "import matplotlib.pyplot as plt\n",
    "from sklearn import svm\n",
    "from sklearn.linear_model import LogisticRegression\n",
    "from sklearn.neural_network import MLPClassifier\n",
    "import tensorflow as tf"
   ]
  },
  {
   "cell_type": "code",
   "execution_count": 2,
   "metadata": {},
   "outputs": [],
   "source": [
    "cols = [\n",
    "    'ID',\n",
    "    'diagnosis',\n",
    "    'radius_m',\n",
    "    'texture_m',\n",
    "    'perimeter_m',\n",
    "    'area_m',\n",
    "    'smoothness_m',\n",
    "    'compactness_m',\n",
    "    'concavity_m',\n",
    "    'concave_points_m',\n",
    "    'symmetry_m',\n",
    "    'fractal_dimension_m',\n",
    "    'radius_se',\n",
    "    'texture_se',\n",
    "    'perimeter_se',\n",
    "    'area_se',\n",
    "    'smoothness_se',\n",
    "    'compactness_se',\n",
    "    'concavity_se',\n",
    "    'concave_points_se',\n",
    "    'symmetry_se',\n",
    "    'fractal_dimension_se',\n",
    "    'radius_w',\n",
    "    'texture_w',\n",
    "    'perimeter_w',\n",
    "    'area_w',\n",
    "    'smoothness_w',\n",
    "    'compactness_w',\n",
    "    'concavity_w',\n",
    "    'concave_points_w',\n",
    "    'symmetry_w',\n",
    "    'fractal_dimension_w']"
   ]
  },
  {
   "cell_type": "code",
   "execution_count": 3,
   "metadata": {},
   "outputs": [],
   "source": [
    "def serialize(obj):\n",
    "    with open('pickle_files/'+namestr(obj)+'.pickle','wb') as f:\n",
    "        pk.dump(obj,f,pk.HIGHEST_PROTOCOL)\n",
    "        \n",
    "def load(obj):\n",
    "    with open('pickle_files/'+obj+'.pickle','rb') as f:\n",
    "        return pk.load(f)\n",
    "\n",
    "def namestr(obj):\n",
    "    g = globals()\n",
    "    return [name for name in g if g[name] is obj][0]"
   ]
  },
  {
   "cell_type": "markdown",
   "metadata": {},
   "source": [
    "### Load dataset from .data file"
   ]
  },
  {
   "cell_type": "code",
   "execution_count": 4,
   "metadata": {},
   "outputs": [],
   "source": [
    "with open('wdbc.data') as file:\n",
    "    l = file.read().splitlines()\n",
    "    l = [i.split(',') for i in l]\n",
    "    data_set = pd.DataFrame(l, columns=cols)\n",
    "    for i in data_set:\n",
    "        data_set[i] = pd.to_numeric(data_set[i],errors='ignore')\n",
    "    \n",
    "    data_set = data_set.sample(frac=1).reset_index(drop=True)\n",
    "    serialize(data_set)"
   ]
  },
  {
   "cell_type": "markdown",
   "metadata": {},
   "source": [
    "### Load dataset from pickle file"
   ]
  },
  {
   "cell_type": "code",
   "execution_count": 5,
   "metadata": {
    "scrolled": true
   },
   "outputs": [],
   "source": [
    "data_set = load('data_set')\n",
    "\n",
    "# M => 1, B => 0\n",
    "data_set.replace('B', 0, inplace=True)\n",
    "data_set.replace('M', 1, inplace=True)\n",
    "\n",
    "X = data_set.iloc[:,2:]\n",
    "y = data_set.iloc[:,1]"
   ]
  },
  {
   "cell_type": "markdown",
   "metadata": {},
   "source": [
    "### Normalization"
   ]
  },
  {
   "cell_type": "code",
   "execution_count": 6,
   "metadata": {},
   "outputs": [],
   "source": [
    "std = np.apply_along_axis(np.std,0,X)\n",
    "mean = np.apply_along_axis(np.mean,0,X)\n",
    "\n",
    "for i in range(len(X.columns)):\n",
    "    X.iloc[:,i] -= mean[i]\n",
    "    X.iloc[:,i] /= std[i]"
   ]
  },
  {
   "cell_type": "code",
   "execution_count": 7,
   "metadata": {
    "scrolled": true
   },
   "outputs": [
    {
     "data": {
      "text/html": [
       "<div>\n",
       "<style scoped>\n",
       "    .dataframe tbody tr th:only-of-type {\n",
       "        vertical-align: middle;\n",
       "    }\n",
       "\n",
       "    .dataframe tbody tr th {\n",
       "        vertical-align: top;\n",
       "    }\n",
       "\n",
       "    .dataframe thead th {\n",
       "        text-align: right;\n",
       "    }\n",
       "</style>\n",
       "<table border=\"1\" class=\"dataframe\">\n",
       "  <thead>\n",
       "    <tr style=\"text-align: right;\">\n",
       "      <th></th>\n",
       "      <th>ID</th>\n",
       "      <th>diagnosis</th>\n",
       "      <th>radius_m</th>\n",
       "      <th>texture_m</th>\n",
       "      <th>perimeter_m</th>\n",
       "      <th>area_m</th>\n",
       "      <th>smoothness_m</th>\n",
       "      <th>compactness_m</th>\n",
       "      <th>concavity_m</th>\n",
       "      <th>concave_points_m</th>\n",
       "      <th>...</th>\n",
       "      <th>radius_w</th>\n",
       "      <th>texture_w</th>\n",
       "      <th>perimeter_w</th>\n",
       "      <th>area_w</th>\n",
       "      <th>smoothness_w</th>\n",
       "      <th>compactness_w</th>\n",
       "      <th>concavity_w</th>\n",
       "      <th>concave_points_w</th>\n",
       "      <th>symmetry_w</th>\n",
       "      <th>fractal_dimension_w</th>\n",
       "    </tr>\n",
       "  </thead>\n",
       "  <tbody>\n",
       "    <tr>\n",
       "      <th>0</th>\n",
       "      <td>869104</td>\n",
       "      <td>1</td>\n",
       "      <td>16.110</td>\n",
       "      <td>18.05</td>\n",
       "      <td>105.10</td>\n",
       "      <td>813.0</td>\n",
       "      <td>0.09721</td>\n",
       "      <td>0.11370</td>\n",
       "      <td>0.09447</td>\n",
       "      <td>0.05943</td>\n",
       "      <td>...</td>\n",
       "      <td>19.92</td>\n",
       "      <td>25.27</td>\n",
       "      <td>129.00</td>\n",
       "      <td>1233.0</td>\n",
       "      <td>0.13140</td>\n",
       "      <td>0.22360</td>\n",
       "      <td>0.28020</td>\n",
       "      <td>0.12160</td>\n",
       "      <td>0.2792</td>\n",
       "      <td>0.08158</td>\n",
       "    </tr>\n",
       "    <tr>\n",
       "      <th>1</th>\n",
       "      <td>8911164</td>\n",
       "      <td>0</td>\n",
       "      <td>11.890</td>\n",
       "      <td>17.36</td>\n",
       "      <td>76.20</td>\n",
       "      <td>435.6</td>\n",
       "      <td>0.12250</td>\n",
       "      <td>0.07210</td>\n",
       "      <td>0.05929</td>\n",
       "      <td>0.07404</td>\n",
       "      <td>...</td>\n",
       "      <td>12.40</td>\n",
       "      <td>18.99</td>\n",
       "      <td>79.46</td>\n",
       "      <td>472.4</td>\n",
       "      <td>0.13590</td>\n",
       "      <td>0.08368</td>\n",
       "      <td>0.07153</td>\n",
       "      <td>0.08946</td>\n",
       "      <td>0.2220</td>\n",
       "      <td>0.06033</td>\n",
       "    </tr>\n",
       "    <tr>\n",
       "      <th>2</th>\n",
       "      <td>864018</td>\n",
       "      <td>0</td>\n",
       "      <td>11.340</td>\n",
       "      <td>21.26</td>\n",
       "      <td>72.48</td>\n",
       "      <td>396.5</td>\n",
       "      <td>0.08759</td>\n",
       "      <td>0.06575</td>\n",
       "      <td>0.05133</td>\n",
       "      <td>0.01899</td>\n",
       "      <td>...</td>\n",
       "      <td>13.01</td>\n",
       "      <td>29.15</td>\n",
       "      <td>83.99</td>\n",
       "      <td>518.1</td>\n",
       "      <td>0.16990</td>\n",
       "      <td>0.21960</td>\n",
       "      <td>0.31200</td>\n",
       "      <td>0.08278</td>\n",
       "      <td>0.2829</td>\n",
       "      <td>0.08832</td>\n",
       "    </tr>\n",
       "    <tr>\n",
       "      <th>3</th>\n",
       "      <td>911150</td>\n",
       "      <td>0</td>\n",
       "      <td>14.530</td>\n",
       "      <td>19.34</td>\n",
       "      <td>94.25</td>\n",
       "      <td>659.7</td>\n",
       "      <td>0.08388</td>\n",
       "      <td>0.07800</td>\n",
       "      <td>0.08817</td>\n",
       "      <td>0.02925</td>\n",
       "      <td>...</td>\n",
       "      <td>16.30</td>\n",
       "      <td>28.39</td>\n",
       "      <td>108.10</td>\n",
       "      <td>830.5</td>\n",
       "      <td>0.10890</td>\n",
       "      <td>0.26490</td>\n",
       "      <td>0.37790</td>\n",
       "      <td>0.09594</td>\n",
       "      <td>0.2471</td>\n",
       "      <td>0.07463</td>\n",
       "    </tr>\n",
       "    <tr>\n",
       "      <th>4</th>\n",
       "      <td>86135501</td>\n",
       "      <td>1</td>\n",
       "      <td>14.480</td>\n",
       "      <td>21.46</td>\n",
       "      <td>94.25</td>\n",
       "      <td>648.2</td>\n",
       "      <td>0.09444</td>\n",
       "      <td>0.09947</td>\n",
       "      <td>0.12040</td>\n",
       "      <td>0.04938</td>\n",
       "      <td>...</td>\n",
       "      <td>16.21</td>\n",
       "      <td>29.25</td>\n",
       "      <td>108.40</td>\n",
       "      <td>808.9</td>\n",
       "      <td>0.13060</td>\n",
       "      <td>0.19760</td>\n",
       "      <td>0.33490</td>\n",
       "      <td>0.12250</td>\n",
       "      <td>0.3020</td>\n",
       "      <td>0.06846</td>\n",
       "    </tr>\n",
       "    <tr>\n",
       "      <th>...</th>\n",
       "      <td>...</td>\n",
       "      <td>...</td>\n",
       "      <td>...</td>\n",
       "      <td>...</td>\n",
       "      <td>...</td>\n",
       "      <td>...</td>\n",
       "      <td>...</td>\n",
       "      <td>...</td>\n",
       "      <td>...</td>\n",
       "      <td>...</td>\n",
       "      <td>...</td>\n",
       "      <td>...</td>\n",
       "      <td>...</td>\n",
       "      <td>...</td>\n",
       "      <td>...</td>\n",
       "      <td>...</td>\n",
       "      <td>...</td>\n",
       "      <td>...</td>\n",
       "      <td>...</td>\n",
       "      <td>...</td>\n",
       "      <td>...</td>\n",
       "    </tr>\n",
       "    <tr>\n",
       "      <th>564</th>\n",
       "      <td>859464</td>\n",
       "      <td>0</td>\n",
       "      <td>9.465</td>\n",
       "      <td>21.01</td>\n",
       "      <td>60.11</td>\n",
       "      <td>269.4</td>\n",
       "      <td>0.10440</td>\n",
       "      <td>0.07773</td>\n",
       "      <td>0.02172</td>\n",
       "      <td>0.01504</td>\n",
       "      <td>...</td>\n",
       "      <td>10.41</td>\n",
       "      <td>31.56</td>\n",
       "      <td>67.03</td>\n",
       "      <td>330.7</td>\n",
       "      <td>0.15480</td>\n",
       "      <td>0.16640</td>\n",
       "      <td>0.09412</td>\n",
       "      <td>0.06517</td>\n",
       "      <td>0.2878</td>\n",
       "      <td>0.09211</td>\n",
       "    </tr>\n",
       "    <tr>\n",
       "      <th>565</th>\n",
       "      <td>8811523</td>\n",
       "      <td>0</td>\n",
       "      <td>11.890</td>\n",
       "      <td>18.35</td>\n",
       "      <td>77.32</td>\n",
       "      <td>432.2</td>\n",
       "      <td>0.09363</td>\n",
       "      <td>0.11540</td>\n",
       "      <td>0.06636</td>\n",
       "      <td>0.03142</td>\n",
       "      <td>...</td>\n",
       "      <td>13.25</td>\n",
       "      <td>27.10</td>\n",
       "      <td>86.20</td>\n",
       "      <td>531.2</td>\n",
       "      <td>0.14050</td>\n",
       "      <td>0.30460</td>\n",
       "      <td>0.28060</td>\n",
       "      <td>0.11380</td>\n",
       "      <td>0.3397</td>\n",
       "      <td>0.08365</td>\n",
       "    </tr>\n",
       "    <tr>\n",
       "      <th>566</th>\n",
       "      <td>877500</td>\n",
       "      <td>1</td>\n",
       "      <td>14.450</td>\n",
       "      <td>20.22</td>\n",
       "      <td>94.49</td>\n",
       "      <td>642.7</td>\n",
       "      <td>0.09872</td>\n",
       "      <td>0.12060</td>\n",
       "      <td>0.11800</td>\n",
       "      <td>0.05980</td>\n",
       "      <td>...</td>\n",
       "      <td>18.33</td>\n",
       "      <td>30.12</td>\n",
       "      <td>117.90</td>\n",
       "      <td>1044.0</td>\n",
       "      <td>0.15520</td>\n",
       "      <td>0.40560</td>\n",
       "      <td>0.49670</td>\n",
       "      <td>0.18380</td>\n",
       "      <td>0.4753</td>\n",
       "      <td>0.10130</td>\n",
       "    </tr>\n",
       "    <tr>\n",
       "      <th>567</th>\n",
       "      <td>90401602</td>\n",
       "      <td>0</td>\n",
       "      <td>12.800</td>\n",
       "      <td>17.46</td>\n",
       "      <td>83.05</td>\n",
       "      <td>508.3</td>\n",
       "      <td>0.08044</td>\n",
       "      <td>0.08895</td>\n",
       "      <td>0.07390</td>\n",
       "      <td>0.04083</td>\n",
       "      <td>...</td>\n",
       "      <td>13.74</td>\n",
       "      <td>21.06</td>\n",
       "      <td>90.72</td>\n",
       "      <td>591.0</td>\n",
       "      <td>0.09534</td>\n",
       "      <td>0.18120</td>\n",
       "      <td>0.19010</td>\n",
       "      <td>0.08296</td>\n",
       "      <td>0.1988</td>\n",
       "      <td>0.07053</td>\n",
       "    </tr>\n",
       "    <tr>\n",
       "      <th>568</th>\n",
       "      <td>844981</td>\n",
       "      <td>1</td>\n",
       "      <td>13.000</td>\n",
       "      <td>21.82</td>\n",
       "      <td>87.50</td>\n",
       "      <td>519.8</td>\n",
       "      <td>0.12730</td>\n",
       "      <td>0.19320</td>\n",
       "      <td>0.18590</td>\n",
       "      <td>0.09353</td>\n",
       "      <td>...</td>\n",
       "      <td>15.49</td>\n",
       "      <td>30.73</td>\n",
       "      <td>106.20</td>\n",
       "      <td>739.3</td>\n",
       "      <td>0.17030</td>\n",
       "      <td>0.54010</td>\n",
       "      <td>0.53900</td>\n",
       "      <td>0.20600</td>\n",
       "      <td>0.4378</td>\n",
       "      <td>0.10720</td>\n",
       "    </tr>\n",
       "  </tbody>\n",
       "</table>\n",
       "<p>569 rows × 32 columns</p>\n",
       "</div>"
      ],
      "text/plain": [
       "           ID  diagnosis  radius_m  texture_m  perimeter_m  area_m  \\\n",
       "0      869104          1    16.110      18.05       105.10   813.0   \n",
       "1     8911164          0    11.890      17.36        76.20   435.6   \n",
       "2      864018          0    11.340      21.26        72.48   396.5   \n",
       "3      911150          0    14.530      19.34        94.25   659.7   \n",
       "4    86135501          1    14.480      21.46        94.25   648.2   \n",
       "..        ...        ...       ...        ...          ...     ...   \n",
       "564    859464          0     9.465      21.01        60.11   269.4   \n",
       "565   8811523          0    11.890      18.35        77.32   432.2   \n",
       "566    877500          1    14.450      20.22        94.49   642.7   \n",
       "567  90401602          0    12.800      17.46        83.05   508.3   \n",
       "568    844981          1    13.000      21.82        87.50   519.8   \n",
       "\n",
       "     smoothness_m  compactness_m  concavity_m  concave_points_m  ...  \\\n",
       "0         0.09721        0.11370      0.09447           0.05943  ...   \n",
       "1         0.12250        0.07210      0.05929           0.07404  ...   \n",
       "2         0.08759        0.06575      0.05133           0.01899  ...   \n",
       "3         0.08388        0.07800      0.08817           0.02925  ...   \n",
       "4         0.09444        0.09947      0.12040           0.04938  ...   \n",
       "..            ...            ...          ...               ...  ...   \n",
       "564       0.10440        0.07773      0.02172           0.01504  ...   \n",
       "565       0.09363        0.11540      0.06636           0.03142  ...   \n",
       "566       0.09872        0.12060      0.11800           0.05980  ...   \n",
       "567       0.08044        0.08895      0.07390           0.04083  ...   \n",
       "568       0.12730        0.19320      0.18590           0.09353  ...   \n",
       "\n",
       "     radius_w  texture_w  perimeter_w  area_w  smoothness_w  compactness_w  \\\n",
       "0       19.92      25.27       129.00  1233.0       0.13140        0.22360   \n",
       "1       12.40      18.99        79.46   472.4       0.13590        0.08368   \n",
       "2       13.01      29.15        83.99   518.1       0.16990        0.21960   \n",
       "3       16.30      28.39       108.10   830.5       0.10890        0.26490   \n",
       "4       16.21      29.25       108.40   808.9       0.13060        0.19760   \n",
       "..        ...        ...          ...     ...           ...            ...   \n",
       "564     10.41      31.56        67.03   330.7       0.15480        0.16640   \n",
       "565     13.25      27.10        86.20   531.2       0.14050        0.30460   \n",
       "566     18.33      30.12       117.90  1044.0       0.15520        0.40560   \n",
       "567     13.74      21.06        90.72   591.0       0.09534        0.18120   \n",
       "568     15.49      30.73       106.20   739.3       0.17030        0.54010   \n",
       "\n",
       "     concavity_w  concave_points_w  symmetry_w  fractal_dimension_w  \n",
       "0        0.28020           0.12160      0.2792              0.08158  \n",
       "1        0.07153           0.08946      0.2220              0.06033  \n",
       "2        0.31200           0.08278      0.2829              0.08832  \n",
       "3        0.37790           0.09594      0.2471              0.07463  \n",
       "4        0.33490           0.12250      0.3020              0.06846  \n",
       "..           ...               ...         ...                  ...  \n",
       "564      0.09412           0.06517      0.2878              0.09211  \n",
       "565      0.28060           0.11380      0.3397              0.08365  \n",
       "566      0.49670           0.18380      0.4753              0.10130  \n",
       "567      0.19010           0.08296      0.1988              0.07053  \n",
       "568      0.53900           0.20600      0.4378              0.10720  \n",
       "\n",
       "[569 rows x 32 columns]"
      ]
     },
     "execution_count": 7,
     "metadata": {},
     "output_type": "execute_result"
    }
   ],
   "source": [
    "data_set"
   ]
  },
  {
   "cell_type": "markdown",
   "metadata": {},
   "source": [
    "### Confusion matrix functions"
   ]
  },
  {
   "cell_type": "code",
   "execution_count": 8,
   "metadata": {},
   "outputs": [],
   "source": [
    "def tp(y, p):\n",
    "    return sum(np.logical_and(y,p))\n",
    "\n",
    "def fp(y, p):\n",
    "    return sum(np.logical_and(np.logical_not(y),p))\n",
    "\n",
    "def tn(y, p):\n",
    "    return sum(np.logical_not(np.logical_or(y,p)))\n",
    "\n",
    "def fn(y, p):\n",
    "    return sum(np.logical_and(y,np.logical_not(p)))"
   ]
  },
  {
   "cell_type": "markdown",
   "metadata": {},
   "source": [
    "### Metrics"
   ]
  },
  {
   "cell_type": "code",
   "execution_count": 9,
   "metadata": {},
   "outputs": [],
   "source": [
    "def accuracy(y_true, y_prediction):\n",
    "    return sum(np.logical_not(np.logical_xor(y_true, y_prediction)))/len(y_true)\n",
    "\n",
    "def precision(y_true, y_prediction):\n",
    "    true_positive  = tp(y_true, y_prediction)\n",
    "    false_positive = fp(y_true, y_prediction)\n",
    "    return true_positive / (true_positive + false_positive)\n",
    "\n",
    "def recall(y_true, y_prediction):\n",
    "    true_positive  = tp(y_true, y_prediction)\n",
    "    false_negative = fn(y_true, y_prediction)\n",
    "    return true_positive / (true_positive + false_negative)\n",
    "\n",
    "def specifity(y_true, y_prediction):\n",
    "    false_positive = fp(y_true, y_prediction)\n",
    "    true_negative  = tn(y_true, y_prediction)\n",
    "    return true_negative / (false_positive + true_negative)\n",
    "\n",
    "def roc_auc(y_true, y_prediction):\n",
    "    tpr = recall(y_true, y_prediction)\n",
    "    fpr = 1 - specifity(y_true, y_prediction)\n",
    "    return (tpr*fpr/2)+((tpr+1)/2)*(1-fpr)"
   ]
  },
  {
   "cell_type": "markdown",
   "metadata": {},
   "source": [
    "### Training and Testing functions"
   ]
  },
  {
   "cell_type": "code",
   "execution_count": 10,
   "metadata": {},
   "outputs": [],
   "source": [
    "def predict(model, x_train, y_train, x_test, y_test):\n",
    "    model.fit(x_train,y_train)\n",
    "    return model.predict(x_test)\n",
    "\n",
    "def score(y_test, prediction):\n",
    "    score = []\n",
    "    score.append(accuracy(y_test, prediction))\n",
    "    score.append(precision(y_test, prediction))\n",
    "    score.append(recall(y_test, prediction))\n",
    "    score.append(roc_auc(y_test, prediction))\n",
    "    return np.array(score)"
   ]
  },
  {
   "cell_type": "code",
   "execution_count": 11,
   "metadata": {},
   "outputs": [],
   "source": [
    "def cross_validation(X, y, n):\n",
    "    options = []\n",
    "    \n",
    "    for i in range(n):\n",
    "        X_folds = np.array_split(X, n)\n",
    "        y_folds = np.array_split(y, n)\n",
    "        \n",
    "        x_test = X_folds.pop(i)\n",
    "        y_test = y_folds.pop(i)\n",
    "\n",
    "        options.append([pd.concat(X_folds),pd.concat(y_folds),x_test,y_test])\n",
    "        \n",
    "    return options"
   ]
  },
  {
   "cell_type": "code",
   "execution_count": 12,
   "metadata": {},
   "outputs": [],
   "source": [
    "def result(model, X, y, n_fold):\n",
    "    folds_option = cross_validation(X, y, n_fold)\n",
    "    scores = []\n",
    "    for i in folds_option:\n",
    "        if len(scores):\n",
    "            scores += score(i[3],predict(model, *i))\n",
    "        else:\n",
    "            scores = score(i[3],predict(model, *i))\n",
    "    scores /= n_fold\n",
    "    return {'accuracy' : scores[0], \n",
    "            'precision': scores[1], \n",
    "            'recall' : scores[2], \n",
    "            'auc' : scores[3]}"
   ]
  },
  {
   "cell_type": "markdown",
   "metadata": {},
   "source": [
    "## Custom MLP"
   ]
  },
  {
   "cell_type": "code",
   "execution_count": 13,
   "metadata": {},
   "outputs": [],
   "source": [
    "class MLP: \n",
    "    \n",
    "    def __init__(self, \n",
    "                 num_perceptrons  = 128, \n",
    "                 activation       = tf.nn.relu, \n",
    "                 solver           = tf.train.AdamOptimizer, \n",
    "                 learning_rate    = .01, \n",
    "                 regularizer_rate = .1,\n",
    "                 epochs           = 15, \n",
    "                 dropout_rate     = .6):\n",
    "    \n",
    "        self.num_perceptrons  = num_perceptrons\n",
    "        self.activation       = activation\n",
    "        self.solver           = solver\n",
    "        self.learning_rate    = learning_rate\n",
    "        self.regularizer_rate = regularizer_rate\n",
    "        self.epochs           = epochs\n",
    "        self.dropout_rate     = dropout_rate\n",
    "\n",
    "    def fit(self, X, y):\n",
    "        \n",
    "        self.s = tf.get_default_session()\n",
    "        if not self.s:\n",
    "            self.s = tf.InteractiveSession()\n",
    "            \n",
    "        self.X_train = X\n",
    "        self.y_train = y\n",
    "        \n",
    "        # initial data\n",
    "        X      = np.array(X)     \n",
    "        y      = np.array(y).reshape((-1,1))\n",
    "        self.X_input = tf.placeholder('float', shape=(None, X.shape[1]), name='X')\n",
    "        self.y_input = tf.placeholder('float', shape=(None, y.shape[1]), name='y')\n",
    "        self.drop_rate = tf.placeholder('float')\n",
    "        \n",
    "        # initialize weights & bias\n",
    "        weights_0 = tf.Variable(tf.random_normal([X.shape[1],self.num_perceptrons], \n",
    "                                                 stddev=(1/tf.sqrt(float(X.shape[1])))))\n",
    "        bias_0    = tf.Variable(tf.random_normal([self.num_perceptrons]))\n",
    "\n",
    "        weights_1 = tf.Variable(tf.random_normal([self.num_perceptrons,y.shape[1]], \n",
    "                                                 stddev=(1/tf.sqrt(float(self.num_perceptrons)))))\n",
    "        bias_1    = tf.Variable(tf.random_normal([y.shape[1]]))\n",
    "        \n",
    "        # define layers\n",
    "        hidden_output  = self.activation(tf.matmul(self.X_input, weights_0)+bias_0)\n",
    "        dropped_output = tf.nn.dropout(hidden_output, rate=self.drop_rate)\n",
    "\n",
    "        output         = tf.matmul(dropped_output,weights_1) + bias_1\n",
    "        mean, std      = tf.nn.moments(output,0)\n",
    "        self.predicted = tf.sigmoid((output - mean)/tf.sqrt(std))\n",
    "        \n",
    "        # optimization\n",
    "        loss      = tf.reduce_mean(tf.nn.softmax_cross_entropy_with_logits_v2(logits=self.predicted,\n",
    "                                                                              labels=self.y_input))\\\n",
    "        + self.regularizer_rate*(tf.reduce_sum(tf.square(bias_0)) + tf.reduce_sum(tf.square(bias_1)))\n",
    "        \n",
    "        optimizer = tf.train.AdamOptimizer(self.learning_rate).minimize(loss,var_list=[weights_0,\n",
    "                                                                                       weights_1,\n",
    "                                                                                       bias_0,\n",
    "                                                                                       bias_1])\n",
    "        # training\n",
    "        self.s.run(tf.global_variables_initializer())\n",
    "        for i in range(self.epochs):\n",
    "            self.s.run(optimizer, {self.X_input:X, self.y_input:y, self.drop_rate:self.dropout_rate})\n",
    "        \n",
    "\n",
    "        \n",
    "    def predict(self, x_test):\n",
    "        prediction = self.s.run(self.predicted, {self.X_input:x_test, self.drop_rate:0})\n",
    "        return np.where(prediction.reshape((-1,))>.5,1,0)"
   ]
  },
  {
   "cell_type": "markdown",
   "metadata": {},
   "source": [
    "## Result"
   ]
  },
  {
   "cell_type": "code",
   "execution_count": 14,
   "metadata": {
    "scrolled": false
   },
   "outputs": [],
   "source": [
    "results = {}\n",
    "\n",
    "results['logistic']    = result(LogisticRegression(max_iter=3000), X, y, 5)\n",
    "\n",
    "results['svm']         = result(svm.SVC(), X, y, 5)\n",
    "\n",
    "results['library_mlp'] = result(MLPClassifier(max_iter = 400, activation='relu'), X, y, 5)\n",
    "\n",
    "results['custom_mlp']  = result(MLP(learning_rate=.025),X,y,5)"
   ]
  },
  {
   "cell_type": "code",
   "execution_count": 15,
   "metadata": {},
   "outputs": [],
   "source": [
    "def plot(label='accuracy'):\n",
    "    y_pos = np.arange(len(results))\n",
    "    performance = [i[label] for i in results.values()]\n",
    "\n",
    "    plt.bar(y_pos, performance)\n",
    "    plt.xticks(y_pos, results.keys())\n",
    "    plt.ylabel(label)\n",
    "    plt.ylim(bottom=min(performance)-.05)\n",
    "\n",
    "    plt.show()"
   ]
  },
  {
   "cell_type": "code",
   "execution_count": 16,
   "metadata": {},
   "outputs": [
    {
     "data": {
      "image/png": "[encoded data removed]",
      "text/plain": [
       "<Figure size 432x288 with 1 Axes>"
      ]
     },
     "metadata": {
      "needs_background": "light"
     },
     "output_type": "display_data"
    }
   ],
   "source": [
    "plot('accuracy')"
   ]
  },
  {
   "cell_type": "code",
   "execution_count": 17,
   "metadata": {},
   "outputs": [
    {
     "data": {
      "image/png": "[encoded data removed]",
      "text/plain": [
       "<Figure size 432x288 with 1 Axes>"
      ]
     },
     "metadata": {
      "needs_background": "light"
     },
     "output_type": "display_data"
    }
   ],
   "source": [
    "plot('precision')"
   ]
  },
  {
   "cell_type": "code",
   "execution_count": 18,
   "metadata": {},
   "outputs": [
    {
     "data": {
      "image/png": "[encoded data removed]",
      "text/plain": [
       "<Figure size 432x288 with 1 Axes>"
      ]
     },
     "metadata": {
      "needs_background": "light"
     },
     "output_type": "display_data"
    }
   ],
   "source": [
    "plot('recall')"
   ]
  },
  {
   "cell_type": "code",
   "execution_count": 19,
   "metadata": {
    "scrolled": true
   },
   "outputs": [
    {
     "data": {
      "image/png": "[encoded data removed]",
      "text/plain": [
       "<Figure size 432x288 with 1 Axes>"
      ]
     },
     "metadata": {
      "needs_background": "light"
     },
     "output_type": "display_data"
    }
   ],
   "source": [
    "plot('auc')"
   ]
  },
  {
   "cell_type": "code",
   "execution_count": 20,
   "metadata": {
    "scrolled": true
   },
   "outputs": [
    {
     "data": {
      "text/plain": [
       "{'accuracy': 0.9718677224033534,\n",
       " 'precision': 0.9661611811107891,\n",
       " 'recall': 0.9598770074517583,\n",
       " 'auc': 0.9701455000198319}"
      ]
     },
     "execution_count": 20,
     "metadata": {},
     "output_type": "execute_result"
    }
   ],
   "source": [
    "results['custom_mlp']"
   ]
  },
  {
   "cell_type": "code",
   "execution_count": 21,
   "metadata": {},
   "outputs": [
    {
     "data": {
      "text/plain": [
       "{'accuracy': 0.9719142990218911,\n",
       " 'precision': 0.968178911880958,\n",
       " 'recall': 0.9572274348021855,\n",
       " 'auc': 0.9686284770851727}"
      ]
     },
     "execution_count": 21,
     "metadata": {},
     "output_type": "execute_result"
    }
   ],
   "source": [
    "results['library_mlp']"
   ]
  },
  {
   "cell_type": "code",
   "execution_count": 22,
   "metadata": {},
   "outputs": [
    {
     "data": {
      "text/plain": [
       "{'accuracy': 0.9806862288464524,\n",
       " 'precision': 0.9829787234042552,\n",
       " 'recall': 0.9670713413570556,\n",
       " 'auc': 0.9776493830531099}"
      ]
     },
     "execution_count": 22,
     "metadata": {},
     "output_type": "execute_result"
    }
   ],
   "source": [
    "results['logistic']"
   ]
  },
  {
   "cell_type": "code",
   "execution_count": 23,
   "metadata": {},
   "outputs": [
    {
     "data": {
      "text/plain": [
       "{'accuracy': 0.9754075454122031,\n",
       " 'precision': 0.9730275429165346,\n",
       " 'recall': 0.9626268969126113,\n",
       " 'auc': 0.9726673587753109}"
      ]
     },
     "execution_count": 23,
     "metadata": {},
     "output_type": "execute_result"
    }
   ],
   "source": [
    "results['svm']"
   ]
  },
  {
   "cell_type": "code",
   "execution_count": null,
   "metadata": {},
   "outputs": [],
   "source": []
  }
 ],
 "metadata": {
  "kernelspec": {
   "display_name": "Python 3",
   "language": "python",
   "name": "python3"
  },
  "language_info": {
   "codemirror_mode": {
    "name": "ipython",
    "version": 3
   },
   "file_extension": ".py",
   "mimetype": "text/x-python",
   "name": "python",
   "nbconvert_exporter": "python",
   "pygments_lexer": "ipython3",
   "version": "3.7.4"
  }
 },
 "nbformat": 4,
 "nbformat_minor": 2
}
